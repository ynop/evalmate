{
 "cells": [
  {
   "cell_type": "markdown",
   "metadata": {},
   "source": [
    "# Automatic Speech Recognition"
   ]
  },
  {
   "cell_type": "markdown",
   "metadata": {},
   "source": [
    "## Load Reference"
   ]
  },
  {
   "cell_type": "code",
   "execution_count": 1,
   "metadata": {},
   "outputs": [
    {
     "name": "stdout",
     "output_type": "stream",
     "text": [
      "001-a - how about evalmate\n",
      "001-b - whats that\n",
      "002-a - where is the store\n",
      "003-a - is this the boss\n",
      "003-b - take the one from the top\n",
      "003-c - bottom is below top\n"
     ]
    }
   ],
   "source": [
    "import audiomate\n",
    "\n",
    "ref_corpus = audiomate.Corpus.load('ref_corpus')\n",
    "\n",
    "for utt in ref_corpus.utterances.values():\n",
    "    label = utt.label_lists['word-transcript'][0]\n",
    "    print('{} - {}'.format(utt.idx, label.value))"
   ]
  },
  {
   "cell_type": "markdown",
   "metadata": {},
   "source": [
    "## Load Hypotheses"
   ]
  },
  {
   "cell_type": "code",
   "execution_count": 2,
   "metadata": {},
   "outputs": [
    {
     "name": "stdout",
     "output_type": "stream",
     "text": [
      "001-a - how about evaluate\n",
      "001-b - whats this\n",
      "002-a - where is the\n",
      "003-a - is the boss\n",
      "003-b - take up the one from the top\n",
      "003-c - bottom is below top\n"
     ]
    }
   ],
   "source": [
    "from audiomate.corpus import assets\n",
    "from audiomate.utils import textfile\n",
    "\n",
    "hyps = textfile.read_key_value_lines('hyp.txt')\n",
    "hyps = {k: assets.LabelList(idx='word-transcript', labels=[assets.Label(v)]) for k, v in hyps.items()}\n",
    "\n",
    "for utt_idx, ll in hyps.items():\n",
    "    print('{} - {}'.format(utt_idx, ll[0].value))"
   ]
  },
  {
   "cell_type": "markdown",
   "metadata": {},
   "source": [
    "## Evaluation"
   ]
  },
  {
   "cell_type": "code",
   "execution_count": 3,
   "metadata": {},
   "outputs": [
    {
     "name": "stdout",
     "output_type": "stream",
     "text": [
      "Overall\n",
      "###########################################################################################################\n",
      "\n",
      "Error Rate :           21.74 %\n",
      "\n",
      "N (total):                23\n",
      "C (correct):              19\n",
      "S (substitutions):         2\n",
      "D (deletions):             2\n",
      "I (insertions):            1\n",
      "\n",
      "\n",
      "Tokens\n",
      "###########################################################################################################\n",
      "\n",
      "\n",
      "about            N:   1.00, C:   1.00, S:   0.00, D:   0.00, I:   0.00\n",
      "below            N:   1.00, C:   1.00, S:   0.00, D:   0.00, I:   0.00\n",
      "boss             N:   1.00, C:   1.00, S:   0.00, D:   0.00, I:   0.00\n",
      "bottom           N:   1.00, C:   1.00, S:   0.00, D:   0.00, I:   0.00\n",
      "evalmate         N:   1.00, C:   0.00, S:   1.00, D:   0.00, I:   0.00\n",
      "evaluate         N:   0.00, C:   0.00, S:   0.00, D:   0.00, I:   0.00\n",
      "from             N:   1.00, C:   1.00, S:   0.00, D:   0.00, I:   0.00\n",
      "how              N:   1.00, C:   1.00, S:   0.00, D:   0.00, I:   0.00\n",
      "is               N:   3.00, C:   3.00, S:   0.00, D:   0.00, I:   0.00\n",
      "one              N:   1.00, C:   1.00, S:   0.00, D:   0.00, I:   0.00\n",
      "store            N:   1.00, C:   0.00, S:   0.00, D:   1.00, I:   0.00\n",
      "take             N:   1.00, C:   1.00, S:   0.00, D:   0.00, I:   0.00\n",
      "that             N:   1.00, C:   0.00, S:   1.00, D:   0.00, I:   0.00\n",
      "the              N:   4.00, C:   4.00, S:   0.00, D:   0.00, I:   0.00\n",
      "this             N:   1.00, C:   0.00, S:   0.00, D:   1.00, I:   0.00\n",
      "top              N:   2.00, C:   2.00, S:   0.00, D:   0.00, I:   0.00\n",
      "up               N:   0.00, C:   0.00, S:   0.00, D:   0.00, I:   1.00\n",
      "whats            N:   1.00, C:   1.00, S:   0.00, D:   0.00, I:   0.00\n",
      "where            N:   1.00, C:   1.00, S:   0.00, D:   0.00, I:   0.00\n",
      "\n",
      "Utterances\n",
      "###########################################################################################################\n",
      "\n",
      "\n",
      "001-a :\n",
      "        ['how', 'about', 'evalmate']\n",
      "        ['how', 'about', 'evaluate']\n",
      "\n",
      "001-b :\n",
      "        ['whats', 'that']\n",
      "        ['whats', 'this']\n",
      "\n",
      "002-a :\n",
      "        ['where', 'is', 'the', 'store']\n",
      "        ['where', 'is', 'the', None]\n",
      "\n",
      "003-a :\n",
      "        ['is', 'this', 'the', 'boss']\n",
      "        ['is', None, 'the', 'boss']\n",
      "\n",
      "003-b :\n",
      "        ['take', None, 'the', 'one', 'from', 'the', 'top']\n",
      "        ['take', 'up', 'the', 'one', 'from', 'the', 'top']\n",
      "\n",
      "003-c :\n",
      "        ['bottom', 'is', 'below', 'top']\n",
      "        ['bottom', 'is', 'below', 'top']\n",
      "\n"
     ]
    }
   ],
   "source": [
    "import evalmate\n",
    "\n",
    "result = evalmate.ASREvaluator().evaluate(ref_corpus, hyps)\n",
    "result.write_report('out.txt', template='asr_detail')\n",
    "\n",
    "with open('out.txt', 'r') as f:\n",
    "    print(f.read())"
   ]
  }
 ],
 "metadata": {
  "kernelspec": {
   "display_name": "Python 3",
   "language": "python",
   "name": "python3"
  },
  "language_info": {
   "codemirror_mode": {
    "name": "ipython",
    "version": 3
   },
   "file_extension": ".py",
   "mimetype": "text/x-python",
   "name": "python",
   "nbconvert_exporter": "python",
   "pygments_lexer": "ipython3",
   "version": "3.7.0"
  }
 },
 "nbformat": 4,
 "nbformat_minor": 2
}
