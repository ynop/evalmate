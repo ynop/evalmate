{
 "cells": [
  {
   "cell_type": "markdown",
   "metadata": {},
   "source": [
    "# Keyword Spotting\n",
    "In a keyword spotting task the goal is to find given words in an audio stream."
   ]
  },
  {
   "cell_type": "markdown",
   "metadata": {},
   "source": [
    "## Reference / Ground Truth"
   ]
  },
  {
   "cell_type": "code",
   "execution_count": 7,
   "metadata": {},
   "outputs": [
    {
     "name": "stdout",
     "output_type": "stream",
     "text": [
      "Example 001-a\n",
      "----------------------\n",
      "0.8 - 1.4   one\n",
      "4.3 - 5.15   two\n",
      "9.1 - 9.95   one\n"
     ]
    }
   ],
   "source": [
    "import audiomate\n",
    "\n",
    "ref_corpus = audiomate.Corpus.load('ref_corpus')\n",
    "sample_utterance = list(ref_corpus.utterances.values())[0]\n",
    "\n",
    "print('Example {}'.format(sample_utterance.idx))\n",
    "print('----------------------')\n",
    "for label in sample_utterance.label_lists['word-transcript']:\n",
    "    print('{} - {}   {}'.format(label.start, label.end, label.value))"
   ]
  },
  {
   "cell_type": "markdown",
   "metadata": {},
   "source": [
    "## Hypothesis / System output"
   ]
  },
  {
   "cell_type": "code",
   "execution_count": 8,
   "metadata": {},
   "outputs": [
    {
     "name": "stdout",
     "output_type": "stream",
     "text": [
      "Example 001-a\n",
      "----------------------\n",
      "0.83 - 1.42   one\n",
      "4.3 - 5.15   three\n",
      "6.2 - 7.3   five\n",
      "9.4 - 9.99   one\n"
     ]
    }
   ],
   "source": [
    "import os\n",
    "from audiomate.formats import audacity\n",
    "\n",
    "hyps = {}\n",
    "\n",
    "for utt_id in ref_corpus.utterances.keys():\n",
    "    ll = audacity.read_label_list(os.path.join('hyp', '{}.txt'.format(utt_id)))\n",
    "    hyps[utt_id] = ll\n",
    "\n",
    "print('Example {}'.format(sample_utterance.idx))\n",
    "print('----------------------')\n",
    "for label in hyps[sample_utterance.idx]:\n",
    "    print('{} - {}   {}'.format(label.start, label.end, label.value))"
   ]
  },
  {
   "cell_type": "markdown",
   "metadata": {},
   "source": [
    "## Evaluation"
   ]
  },
  {
   "cell_type": "code",
   "execution_count": 9,
   "metadata": {},
   "outputs": [],
   "source": [
    "import evalmate\n",
    "\n",
    "result = evalmate.KWSEvaluator().evaluate(ref_corpus, hyps)"
   ]
  },
  {
   "cell_type": "code",
   "execution_count": 10,
   "metadata": {},
   "outputs": [
    {
     "name": "stdout",
     "output_type": "stream",
     "text": [
      "Overall\n",
      "###########################################################################################################\n",
      "\n",
      "TWV:                  -12.979\n",
      "\n",
      "FRR:                   0.2905\n",
      "FAR:                   0.0137\n",
      "\n",
      "Precision:             62.963 %\n",
      "Recall:                70.833 %\n",
      "\n",
      "Precision (mean):      65.238 %\n",
      "Recall (mean):         70.952 %\n",
      "\n",
      "N (total):                 24\n",
      "C (correct):               17\n",
      "S (substitutions):          4\n",
      "D (deletions):              3\n",
      "I (insertions):             6\n",
      "\n",
      "Keywords\n",
      "###########################################################################################################\n",
      "\n",
      "five                Precision:  66.67 %   Recall:  66.67 %   FRR: 0.3333   FAR: 0.0068   TWV:  -6.117   \n",
      "                    N: 3         C: 2         S: 0         D: 1         I: 1         \n",
      "\n",
      "four                Precision:  50.00 %   Recall:  75.00 %   FRR: 0.2500   FAR: 0.0205   TWV: -19.740   \n",
      "                    N: 4         C: 3         S: 1         D: 0         I: 2         \n",
      "\n",
      "one                 Precision: 100.00 %   Recall:  71.43 %   FRR: 0.2857   FAR: 0.0000   TWV:   0.714   \n",
      "                    N: 7         C: 5         S: 1         D: 1         I: 0         \n",
      "\n",
      "three               Precision:  66.67 %   Recall:  66.67 %   FRR: 0.3333   FAR: 0.0139   TWV: -13.182   \n",
      "                    N: 6         C: 4         S: 1         D: 1         I: 1         \n",
      "\n",
      "two                 Precision:  42.86 %   Recall:  75.00 %   FRR: 0.2500   FAR: 0.0273   TWV: -26.570   \n",
      "                    N: 4         C: 3         S: 1         D: 0         I: 2         \n",
      "\n",
      "\n"
     ]
    }
   ],
   "source": [
    "print(result.get_report('kws'))"
   ]
  },
  {
   "cell_type": "code",
   "execution_count": 11,
   "metadata": {
    "scrolled": false
   },
   "outputs": [
    {
     "name": "stdout",
     "output_type": "stream",
     "text": [
      "Overall\n",
      "###########################################################################################################\n",
      "\n",
      "TWV:                  -12.979\n",
      "\n",
      "FRR:                   0.2905\n",
      "FAR:                   0.0137\n",
      "\n",
      "Precision:             62.963 %\n",
      "Recall:                70.833 %\n",
      "\n",
      "Precision (mean):      65.238 %\n",
      "Recall (mean):         70.952 %\n",
      "\n",
      "N (total):                 24\n",
      "C (correct):               17\n",
      "S (substitutions):          4\n",
      "D (deletions):              3\n",
      "I (insertions):             6\n",
      "\n",
      "Keywords\n",
      "###########################################################################################################\n",
      "\n",
      "five                Precision:  66.67 %   Recall:  66.67 %   FRR: 0.3333   FAR: 0.0068   TWV:  -6.117   \n",
      "                    N: 3         C: 2         S: 0         D: 1         I: 1         \n",
      "\n",
      "four                Precision:  50.00 %   Recall:  75.00 %   FRR: 0.2500   FAR: 0.0205   TWV: -19.740   \n",
      "                    N: 4         C: 3         S: 1         D: 0         I: 2         \n",
      "\n",
      "one                 Precision: 100.00 %   Recall:  71.43 %   FRR: 0.2857   FAR: 0.0000   TWV:   0.714   \n",
      "                    N: 7         C: 5         S: 1         D: 1         I: 0         \n",
      "\n",
      "three               Precision:  66.67 %   Recall:  66.67 %   FRR: 0.3333   FAR: 0.0139   TWV: -13.182   \n",
      "                    N: 6         C: 4         S: 1         D: 1         I: 1         \n",
      "\n",
      "two                 Precision:  42.86 %   Recall:  75.00 %   FRR: 0.2500   FAR: 0.0273   TWV: -26.570   \n",
      "                    N: 4         C: 3         S: 1         D: 0         I: 2         \n",
      "\n",
      "\n",
      "\n",
      "Confusions\n",
      "###########################################################################################################\n",
      "\n",
      "\n",
      "four           \n",
      "-----------------------------------------------------------------------------------------------------------\n",
      "\n",
      "                     two :   1\n",
      "\n",
      "one            \n",
      "-----------------------------------------------------------------------------------------------------------\n",
      "\n",
      "                     two :   1\n",
      "\n",
      "three          \n",
      "-----------------------------------------------------------------------------------------------------------\n",
      "\n",
      "                    four :   1\n",
      "\n",
      "two            \n",
      "-----------------------------------------------------------------------------------------------------------\n",
      "\n",
      "                   three :   1\n",
      "\n"
     ]
    }
   ],
   "source": [
    "print(result.get_report('kws_detail'))"
   ]
  },
  {
   "cell_type": "markdown",
   "metadata": {},
   "source": [
    "Some templates also take parameters. These are passed in the `get_report` method.\n",
    "This way the template can be customized."
   ]
  },
  {
   "cell_type": "code",
   "execution_count": 12,
   "metadata": {
    "scrolled": false
   },
   "outputs": [
    {
     "name": "stdout",
     "output_type": "stream",
     "text": [
      "Overall\n",
      "###########################################################################################################\n",
      "\n",
      "TWV:                  -12.979\n",
      "\n",
      "FRR:                   0.2905\n",
      "FAR:                   0.0137\n",
      "\n",
      "Precision:             62.963 %\n",
      "Recall:                70.833 %\n",
      "\n",
      "Precision (mean):      65.238 %\n",
      "Recall (mean):         70.952 %\n",
      "\n",
      "N (total):                 24\n",
      "C (correct):               17\n",
      "S (substitutions):          4\n",
      "D (deletions):              3\n",
      "I (insertions):             6\n",
      "\n",
      "Keywords\n",
      "###########################################################################################################\n",
      "\n",
      "five                Precision:  66.67 %   Recall:  66.67 %   FRR: 0.3333   FAR: 0.0068   TWV:  -6.117   \n",
      "                    N: 3         C: 2         S: 0         D: 1         I: 1         \n",
      "\n",
      "four                Precision:  50.00 %   Recall:  75.00 %   FRR: 0.2500   FAR: 0.0205   TWV: -19.740   \n",
      "                    N: 4         C: 3         S: 1         D: 0         I: 2         \n",
      "\n",
      "one                 Precision: 100.00 %   Recall:  71.43 %   FRR: 0.2857   FAR: 0.0000   TWV:   0.714   \n",
      "                    N: 7         C: 5         S: 1         D: 1         I: 0         \n",
      "\n",
      "three               Precision:  66.67 %   Recall:  66.67 %   FRR: 0.3333   FAR: 0.0139   TWV: -13.182   \n",
      "                    N: 6         C: 4         S: 1         D: 1         I: 1         \n",
      "\n",
      "two                 Precision:  42.86 %   Recall:  75.00 %   FRR: 0.2500   FAR: 0.0273   TWV: -26.570   \n",
      "                    N: 4         C: 3         S: 1         D: 0         I: 2         \n",
      "\n",
      "\n",
      "Keyword Groups\n",
      "###########################################################################################################\n",
      "\n",
      "cat_a               Precision:  66.67 %   Recall:  70.59 %   FRR: 0.2897   FAR: 0.0137   TWV: -13.013   \n",
      "                    N: 17        C: 12        S: 3         D: 2         I: 3         \n",
      "\n",
      "cat_b               Precision:  55.56 %   Recall:  71.43 %   FRR: 0.2917   FAR: 0.0136   TWV: -12.928   \n",
      "                    N: 7         C: 5         S: 1         D: 1         I: 3         \n",
      "\n",
      "\n",
      "\n"
     ]
    }
   ],
   "source": [
    "print(result.get_report('kws', template_param={\n",
    "    'keyword_groups': {\n",
    "        'cat_a': ['one', 'two', 'three'],\n",
    "        'cat_b': ['four', 'five']\n",
    "    }\n",
    "}))"
   ]
  }
 ],
 "metadata": {
  "kernelspec": {
   "display_name": "Python 3",
   "language": "python",
   "name": "python3"
  },
  "language_info": {
   "codemirror_mode": {
    "name": "ipython",
    "version": 3
   },
   "file_extension": ".py",
   "mimetype": "text/x-python",
   "name": "python",
   "nbconvert_exporter": "python",
   "pygments_lexer": "ipython3",
   "version": "3.7.2"
  }
 },
 "nbformat": 4,
 "nbformat_minor": 2
}
