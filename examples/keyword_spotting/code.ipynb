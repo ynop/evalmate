{
 "cells": [
  {
   "cell_type": "markdown",
   "metadata": {},
   "source": [
    "# Keyword Spotting\n",
    "In a keyword spotting task the goal is to find given words in an audio stream."
   ]
  },
  {
   "cell_type": "markdown",
   "metadata": {},
   "source": [
    "## Reference / Ground Truth"
   ]
  },
  {
   "cell_type": "code",
   "execution_count": 1,
   "metadata": {},
   "outputs": [
    {
     "name": "stdout",
     "output_type": "stream",
     "text": [
      "Example 001-a\n",
      "----------------------\n",
      "0.8 - 1.4   one\n",
      "4.3 - 5.15   two\n",
      "9.1 - 9.95   one\n"
     ]
    }
   ],
   "source": [
    "import audiomate\n",
    "\n",
    "ref_corpus = audiomate.Corpus.load('ref_corpus')\n",
    "sample_utterance = list(ref_corpus.utterances.values())[0]\n",
    "\n",
    "print('Example {}'.format(sample_utterance.idx))\n",
    "print('----------------------')\n",
    "for label in sample_utterance.label_lists['word-transcript']:\n",
    "    print('{} - {}   {}'.format(label.start, label.end, label.value))"
   ]
  },
  {
   "cell_type": "markdown",
   "metadata": {},
   "source": [
    "## Hypothesis / System output"
   ]
  },
  {
   "cell_type": "code",
   "execution_count": 2,
   "metadata": {},
   "outputs": [
    {
     "name": "stdout",
     "output_type": "stream",
     "text": [
      "Example 001-a\n",
      "----------------------\n",
      "0.83 - 1.42   one\n",
      "4.3 - 5.15   three\n",
      "6.2 - 7.3   five\n",
      "9.4 - 9.99   one\n"
     ]
    }
   ],
   "source": [
    "import os\n",
    "from audiomate.formats import audacity\n",
    "\n",
    "hyps = {}\n",
    "\n",
    "for utt_id in ref_corpus.utterances.keys():\n",
    "    ll = audacity.read_label_list(os.path.join('hyp', '{}.txt'.format(utt_id)))\n",
    "    hyps[utt_id] = ll\n",
    "\n",
    "print('Example {}'.format(sample_utterance.idx))\n",
    "print('----------------------')\n",
    "for label in hyps[sample_utterance.idx]:\n",
    "    print('{} - {}   {}'.format(label.start, label.end, label.value))"
   ]
  },
  {
   "cell_type": "markdown",
   "metadata": {},
   "source": [
    "## Evaluation"
   ]
  },
  {
   "cell_type": "code",
   "execution_count": 3,
   "metadata": {},
   "outputs": [
    {
     "name": "stdout",
     "output_type": "stream",
     "text": [
      "Overall\n",
      "###########################################################################################################\n",
      "\n",
      "TWV:                  -12.98\n",
      "\n",
      "FRR:                    0.29\n",
      "FAR:                    0.01\n",
      "\n",
      "Precision:             62.96\n",
      "Recall:                70.83\n",
      "\n",
      "N (total):             24.00\n",
      "C (correct):           17.00\n",
      "S (substitutions):      4.00\n",
      "D (deletions):          3.00\n",
      "I (insertions):         6.00\n",
      "\n",
      "Keywords\n",
      "###########################################################################################################\n",
      "\n",
      "\n",
      "one              Precision: 100.00  Recall: 71.43\n",
      "                 N:   7.00, C:   5.00, S:   1.00, D:   1.00, I:   0.00\n",
      "\n",
      "two              Precision: 42.86  Recall: 75.00\n",
      "                 N:   4.00, C:   3.00, S:   1.00, D:   0.00, I:   2.00\n",
      "\n",
      "three            Precision: 66.67  Recall: 66.67\n",
      "                 N:   6.00, C:   4.00, S:   1.00, D:   1.00, I:   1.00\n",
      "\n",
      "five             Precision: 66.67  Recall: 66.67\n",
      "                 N:   3.00, C:   2.00, S:   0.00, D:   1.00, I:   1.00\n",
      "\n",
      "four             Precision: 50.00  Recall: 75.00\n",
      "                 N:   4.00, C:   3.00, S:   1.00, D:   0.00, I:   2.00\n",
      "\n"
     ]
    }
   ],
   "source": [
    "import evalmate\n",
    "\n",
    "result = evalmate.KWSEvaluator().evaluate(ref_corpus, hyps)\n",
    "result.write_report('out.txt')\n",
    "\n",
    "with open('out.txt', 'r') as f:\n",
    "    print(f.read())"
   ]
  }
 ],
 "metadata": {
  "kernelspec": {
   "display_name": "Python 3",
   "language": "python",
   "name": "python3"
  },
  "language_info": {
   "codemirror_mode": {
    "name": "ipython",
    "version": 3
   },
   "file_extension": ".py",
   "mimetype": "text/x-python",
   "name": "python",
   "nbconvert_exporter": "python",
   "pygments_lexer": "ipython3",
   "version": "3.7.0"
  }
 },
 "nbformat": 4,
 "nbformat_minor": 2
}
