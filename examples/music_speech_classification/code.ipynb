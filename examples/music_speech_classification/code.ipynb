{
 "cells": [
  {
   "cell_type": "markdown",
   "metadata": {},
   "source": [
    "# Music / Speech / Mix discrimination\n",
    "\n",
    "This is an example for evaluating a discrimination task. The goal of the task is to classify every part of an audio signal to one of three classes (music, speech, mix)."
   ]
  },
  {
   "cell_type": "markdown",
   "metadata": {},
   "source": [
    "## Reference / Ground Truth"
   ]
  },
  {
   "cell_type": "code",
   "execution_count": 1,
   "metadata": {
    "scrolled": true
   },
   "outputs": [
    {
     "name": "stdout",
     "output_type": "stream",
     "text": [
      "Example 001-a\n",
      "----------------------\n",
      "0.0 - 10.2   music\n"
     ]
    }
   ],
   "source": [
    "import audiomate\n",
    "\n",
    "ref_corpus = audiomate.Corpus.load('ref_corpus')\n",
    "sample_utterance = list(ref_corpus.utterances.values())[0]\n",
    "\n",
    "print('Example {}'.format(sample_utterance.idx))\n",
    "print('----------------------')\n",
    "for label in sample_utterance.label_lists['domain']:\n",
    "    print('{} - {}   {}'.format(label.start, label.end, label.value))"
   ]
  },
  {
   "cell_type": "markdown",
   "metadata": {},
   "source": [
    "## Hypothesis / System output"
   ]
  },
  {
   "cell_type": "code",
   "execution_count": 2,
   "metadata": {},
   "outputs": [
    {
     "name": "stdout",
     "output_type": "stream",
     "text": [
      "Example 001-a\n",
      "----------------------\n",
      "0.0 - 7.5   music\n",
      "7.5 - 9.4   speech\n"
     ]
    }
   ],
   "source": [
    "import os\n",
    "from audiomate.formats import audacity\n",
    "\n",
    "hyps = {}\n",
    "\n",
    "for utt_id in ref_corpus.utterances.keys():\n",
    "    ll = audacity.read_label_list(os.path.join('hyp', '{}.txt'.format(utt_id)))\n",
    "    hyps[utt_id] = ll\n",
    "\n",
    "print('Example {}'.format(sample_utterance.idx))\n",
    "print('----------------------')\n",
    "for label in hyps[sample_utterance.idx]:\n",
    "    print('{} - {}   {}'.format(label.start, label.end, label.value))"
   ]
  },
  {
   "cell_type": "markdown",
   "metadata": {},
   "source": [
    "## Evaluation"
   ]
  },
  {
   "cell_type": "code",
   "execution_count": 3,
   "metadata": {
    "scrolled": false
   },
   "outputs": [
    {
     "name": "stdout",
     "output_type": "stream",
     "text": [
      "Overall\n",
      "########################################################################################\n",
      "\n",
      "Precision:             76.63\n",
      "Recall:                73.64\n",
      "\n",
      "N (total):            169.60\n",
      "C (correct):          124.90\n",
      "S (substitutions):     36.40\n",
      "D (deletions):          8.30\n",
      "I (insertions):         1.70\n",
      "\n",
      "Ground-Truth\n",
      "----------------------------\n",
      "Count:                     7\n",
      "Length - Min:          10.20\n",
      "Length - Max:          52.10\n",
      "Length - Mean:         24.23\n",
      "Length - Median:       18.30\n",
      "Length - Variance:    207.69\n",
      "\n",
      "\n",
      "System Output\n",
      "----------------------------\n",
      "Count:                    17\n",
      "Length - Min:           1.90\n",
      "Length - Max:          22.20\n",
      "Length - Mean:          9.59\n",
      "Length - Median:        7.30\n",
      "Length - Variance:     36.16\n",
      "\n",
      "Classes\n",
      "########################################################################################\n",
      "\n",
      "\n",
      "music            Precision: 69.86,  Recall: 74.03\n",
      "                 N:  62.00, C:  45.90, S:  12.90, D:   3.20, I:   0.00\n",
      "\n",
      "            REF  L-Min:   10.20, L-Max:   39.60, L-Mean:   20.67, L-Median:   12.20, L-Var:  179.90\n",
      "            HYP  L-Min:    2.40, L-Max:   16.20, L-Mean:    8.21, L-Median:    6.90, L-Var:   21.35\n",
      "\n",
      "\n",
      "speech           Precision: 87.97,  Recall: 76.15\n",
      "                 N:  89.30, C:  68.00, S:  16.20, D:   5.10, I:   1.70\n",
      "\n",
      "            REF  L-Min:   18.00, L-Max:   52.10, L-Mean:   29.77, L-Median:   19.20, L-Var:  249.63\n",
      "            HYP  L-Min:    1.90, L-Max:   22.20, L-Mean:   12.88, L-Median:   13.90, L-Var:   51.42\n",
      "\n",
      "\n",
      "mix              Precision: 55.00,  Recall: 60.11\n",
      "                 N:  18.30, C:  11.00, S:   7.30, D:   0.00, I:   0.00\n",
      "\n",
      "            REF  L-Min:   18.30, L-Max:   18.30, L-Mean:   18.30, L-Median:   18.30, L-Var:    0.00\n",
      "            HYP  L-Min:    3.70, L-Max:   11.00, L-Mean:    6.67, L-Median:    5.30, L-Var:    9.82\n",
      "\n",
      "\n"
     ]
    }
   ],
   "source": [
    "from evalmate import tasks\n",
    "\n",
    "result = tasks.ClassificationEvaluator().evaluate(ref_corpus, hyps)\n",
    "result.write_report('out.txt')\n",
    "\n",
    "with open('out.txt', 'r') as f:\n",
    "    print(f.read())"
   ]
  }
 ],
 "metadata": {
  "kernelspec": {
   "display_name": "Python 3",
   "language": "python",
   "name": "python3"
  },
  "language_info": {
   "codemirror_mode": {
    "name": "ipython",
    "version": 3
   },
   "file_extension": ".py",
   "mimetype": "text/x-python",
   "name": "python",
   "nbconvert_exporter": "python",
   "pygments_lexer": "ipython3",
   "version": "3.6.5"
  }
 },
 "nbformat": 4,
 "nbformat_minor": 2
}
